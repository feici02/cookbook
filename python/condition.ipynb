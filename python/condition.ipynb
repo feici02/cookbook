{
 "cells": [
  {
   "cell_type": "code",
   "execution_count": 5,
   "metadata": {},
   "outputs": [
    {
     "name": "stdout",
     "output_type": "stream",
     "text": [
      "What is your grade? 90\n",
      "Passing grade of:\n",
      "A-\n"
     ]
    }
   ],
   "source": [
    "grade_text = input(\"What is your grade? \")\n",
    "grade = int(grade_text)\n",
    "\n",
    "if grade >= 65:\n",
    "    print(\"Passing grade of:\")\n",
    "\n",
    "    if grade >= 90:\n",
    "        if grade > 96:\n",
    "            print(\"A+\")\n",
    "\n",
    "        elif grade > 93 and grade <= 96:\n",
    "            print(\"A\")\n",
    "\n",
    "        else:\n",
    "            print(\"A-\")\n",
    "\n",
    "    elif grade >= 80:\n",
    "        print(\"B\")\n",
    "\n",
    "    elif grade >= 70:\n",
    "        print(\"C\")\n",
    "\n",
    "    elif grade >= 65:\n",
    "        print(\"D\")\n",
    "\n",
    "else:\n",
    "    print(\"Failing grade\")"
   ]
  },
  {
   "cell_type": "code",
   "execution_count": null,
   "metadata": {
    "collapsed": true
   },
   "outputs": [],
   "source": []
  }
 ],
 "metadata": {
  "kernelspec": {
   "display_name": "Python 3",
   "language": "python",
   "name": "python3"
  },
  "language_info": {
   "codemirror_mode": {
    "name": "ipython",
    "version": 3
   },
   "file_extension": ".py",
   "mimetype": "text/x-python",
   "name": "python",
   "nbconvert_exporter": "python",
   "pygments_lexer": "ipython3",
   "version": "3.6.0"
  }
 },
 "nbformat": 4,
 "nbformat_minor": 2
}
