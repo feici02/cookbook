{
 "cells": [
  {
   "cell_type": "code",
   "execution_count": 3,
   "metadata": {},
   "outputs": [
    {
     "name": "stdout",
     "output_type": "stream",
     "text": [
      "constructor\n"
     ]
    }
   ],
   "source": [
    "class Person:\n",
    "    def __init__(self):\n",
    "        print(\"constructor\")\n",
    "\n",
    "jason = Person()"
   ]
  },
  {
   "cell_type": "code",
   "execution_count": 2,
   "metadata": {},
   "outputs": [
    {
     "name": "stdout",
     "output_type": "stream",
     "text": [
      "I am walking.\n",
      "I am running.\n"
     ]
    }
   ],
   "source": [
    "class Person:\n",
    "    def walk(self):\n",
    "        print(\"I am walking.\")\n",
    "    \n",
    "    def run(self):\n",
    "        print(\"I am running.\")\n",
    "\n",
    "def main():\n",
    "    jason = Person()\n",
    "    \n",
    "    jason.walk()\n",
    "    jason.run()\n",
    "\n",
    "if __name__ == '__main__':\n",
    "    main()"
   ]
  },
  {
   "cell_type": "code",
   "execution_count": 6,
   "metadata": {},
   "outputs": [
    {
     "name": "stdout",
     "output_type": "stream",
     "text": [
      "Jason is walking.\n",
      "Sally is running.\n"
     ]
    }
   ],
   "source": [
    "class Person:\n",
    "    def __init__(self, name):\n",
    "        self.name = name\n",
    "\n",
    "    def walk(self):\n",
    "        print(self.name + \" is walking.\")\n",
    "    \n",
    "    def run(self):\n",
    "        print(self.name + \" is running.\")\n",
    "\n",
    "def main():\n",
    "    jason = Person(\"Jason\")\n",
    "    sally = Person(\"Sally\")\n",
    "    \n",
    "    jason.walk()\n",
    "    sally.run()\n",
    "\n",
    "if __name__ == '__main__':\n",
    "    main()"
   ]
  },
  {
   "cell_type": "code",
   "execution_count": 11,
   "metadata": {},
   "outputs": [
    {
     "name": "stdout",
     "output_type": "stream",
     "text": [
      "Jason is 10 years old, and has 2 eyes.\n",
      "Sally is 20 years old, and has 1 nose.\n"
     ]
    }
   ],
   "source": [
    "class Person:\n",
    "    # class variables\n",
    "    eyes = 2\n",
    "    nose = 1\n",
    "    \n",
    "    # instance variables\n",
    "    def __init__(self, name, age):\n",
    "        self.name = name\n",
    "        self.age = age\n",
    "\n",
    "def main():\n",
    "    jason = Person(\"Jason\", 10)\n",
    "    sally = Person(\"Sally\", 20)\n",
    "    \n",
    "    print(\"{} is {} years old, and has {} eyes.\".format(jason.name, jason.age, jason.eyes))\n",
    "    print(\"{} is {} years old, and has {} nose.\".format(sally.name, sally.age, sally.nose))\n",
    "\n",
    "if __name__ == '__main__':\n",
    "    main()"
   ]
  },
  {
   "cell_type": "code",
   "execution_count": 5,
   "metadata": {},
   "outputs": [
    {
     "name": "stdout",
     "output_type": "stream",
     "text": [
      "Jason is a man.\n",
      "Jason is walking.\n",
      "Jason runs fast.\n",
      "Sally is a woman.\n",
      "Sally is walking.\n",
      "Sally runs not so fast.\n"
     ]
    }
   ],
   "source": [
    "class Person:\n",
    "    def __init__(self, name):\n",
    "        self.name = name\n",
    "\n",
    "    def walk(self):\n",
    "        print(self.name + \" is walking.\")\n",
    "    \n",
    "    def run(self):\n",
    "        print(self.name + \" is running.\")\n",
    "\n",
    "class Man(Person):\n",
    "    def say(self):\n",
    "        print(self.name + \" is a man.\")\n",
    "    \n",
    "    def run(self):\n",
    "        print(self.name + \" runs fast.\")\n",
    "\n",
    "class Woman(Person):\n",
    "    def say(self):\n",
    "        print(self.name + \" is a woman.\")\n",
    "        \n",
    "    def run(self):\n",
    "        print(self.name + \" runs not so fast.\")\n",
    "\n",
    "def main():\n",
    "    jason = Man(\"Jason\")\n",
    "    sally = Woman(\"Sally\")\n",
    "    \n",
    "    jason.say()\n",
    "    jason.walk()\n",
    "    jason.run()\n",
    "    \n",
    "    sally.say()\n",
    "    sally.walk()\n",
    "    sally.run()\n",
    "\n",
    "if __name__ == '__main__':\n",
    "    main()"
   ]
  },
  {
   "cell_type": "code",
   "execution_count": 16,
   "metadata": {},
   "outputs": [
    {
     "name": "stdout",
     "output_type": "stream",
     "text": [
      "Jason\n",
      "short\n",
      "2\n"
     ]
    }
   ],
   "source": [
    "# super()\n",
    "\n",
    "class Person:\n",
    "    def __init__(self, name, hand=2):\n",
    "        self.name = name\n",
    "        self.hand = hand\n",
    "\n",
    "class Man(Person):\n",
    "    def __init__(self, hair=\"short\"):\n",
    "        self.hair = hair\n",
    "        \n",
    "        # if you override the constructor of the parent class\n",
    "        # you should call it explicitly\n",
    "        super().__init__(self)\n",
    "        \n",
    "jason = Man()\n",
    "jason.name = \"Jason\"\n",
    "\n",
    "print(jason.name)\n",
    "print(jason.hair)\n",
    "print(jason.hand)"
   ]
  },
  {
   "cell_type": "code",
   "execution_count": 4,
   "metadata": {},
   "outputs": [
    {
     "name": "stdout",
     "output_type": "stream",
     "text": [
      "Woof\n",
      "Meow\n",
      "Woof\n",
      "Meow\n"
     ]
    }
   ],
   "source": [
    "# polymorphism\n",
    "\n",
    "class Dog:\n",
    "    def make_sound(self):\n",
    "        print(\"Woof\")\n",
    "\n",
    "class Cat:\n",
    "    def make_sound(self):\n",
    "        print(\"Meow\")\n",
    "\n",
    "def sound(animal):\n",
    "    animal.make_sound()\n",
    "\n",
    "floppy = Dog()\n",
    "puss = Cat()\n",
    "\n",
    "for animal in (floppy, puss):\n",
    "    animal.make_sound()\n",
    "\n",
    "sound(floppy)\n",
    "sound(puss)"
   ]
  },
  {
   "cell_type": "code",
   "execution_count": null,
   "metadata": {
    "collapsed": true
   },
   "outputs": [],
   "source": []
  }
 ],
 "metadata": {
  "kernelspec": {
   "display_name": "Python 3",
   "language": "python",
   "name": "python3"
  },
  "language_info": {
   "codemirror_mode": {
    "name": "ipython",
    "version": 3
   },
   "file_extension": ".py",
   "mimetype": "text/x-python",
   "name": "python",
   "nbconvert_exporter": "python",
   "pygments_lexer": "ipython3",
   "version": "3.6.0"
  }
 },
 "nbformat": 4,
 "nbformat_minor": 2
}
