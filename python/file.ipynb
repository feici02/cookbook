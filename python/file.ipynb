{
 "cells": [
  {
   "cell_type": "code",
   "execution_count": 2,
   "metadata": {},
   "outputs": [],
   "source": [
    "path = \"./days.txt\"\n",
    "days_file = open(path, 'r')\n",
    "\n",
    "# 'r' : use for reading\n",
    "# 'w' : use for writing\n",
    "# 'x' : use for creating and writing to a new file\n",
    "# 'a' : use for appending to a file\n",
    "# 'r+' : use for reading and writing to the same file\n",
    "\n",
    "days = days_file.read()\n",
    "#print(days_file.readline())\n",
    "#print(days_file.readlines())\n",
    "\n",
    "new_path = \"./new_days.txt\"\n",
    "new_days_file = open(new_path, 'w')\n",
    "\n",
    "title = \"Days of the Week\\n\"\n",
    "new_days_file.write(title)\n",
    "new_days_file.write(days)\n",
    "\n",
    "days_file.close()\n",
    "new_days_file.close()"
   ]
  },
  {
   "cell_type": "code",
   "execution_count": null,
   "metadata": {
    "collapsed": true
   },
   "outputs": [],
   "source": []
  }
 ],
 "metadata": {
  "kernelspec": {
   "display_name": "Python 3",
   "language": "python",
   "name": "python3"
  },
  "language_info": {
   "codemirror_mode": {
    "name": "ipython",
    "version": 3
   },
   "file_extension": ".py",
   "mimetype": "text/x-python",
   "name": "python",
   "nbconvert_exporter": "python",
   "pygments_lexer": "ipython3",
   "version": "3.6.0"
  }
 },
 "nbformat": 4,
 "nbformat_minor": 2
}
