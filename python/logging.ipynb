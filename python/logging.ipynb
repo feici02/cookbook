{
 "cells": [
  {
   "cell_type": "code",
   "execution_count": 2,
   "metadata": {},
   "outputs": [
    {
     "name": "stdout",
     "output_type": "stream",
     "text": [
      "Pizza created: artichoke ($15)\n",
      "Made 1 artichoke pizza(s)\n",
      "Ate 1 artichoke pizza(s)\n",
      "Pizza created: margherita ($12)\n",
      "Made 2 margherita pizza(s)\n",
      "Ate 1 margherita pizza(s)\n"
     ]
    }
   ],
   "source": [
    "class Pizza():\n",
    "    def __init__(self, name, price):\n",
    "        self.name = name\n",
    "        self.price = price\n",
    "        print(\"Pizza created: {} (${})\".format(self.name, self.price))\n",
    "\n",
    "    def make(self, quantity=1):\n",
    "        print(\"Made {} {} pizza(s)\".format(quantity, self.name))\n",
    "\n",
    "    def eat(self, quantity=1):\n",
    "        print(\"Ate {} {} pizza(s)\".format(quantity, self.name))\n",
    "\n",
    "pizza_01 = Pizza(\"artichoke\", 15)\n",
    "pizza_01.make()\n",
    "pizza_01.eat()\n",
    "\n",
    "pizza_02 = Pizza(\"margherita\", 12)\n",
    "pizza_02.make(2)\n",
    "pizza_02.eat()"
   ]
  },
  {
   "cell_type": "code",
   "execution_count": 2,
   "metadata": {},
   "outputs": [
    {
     "name": "stderr",
     "output_type": "stream",
     "text": [
      "2017-05-19 11:16:20,486:DEBUG:Pizza created: artichoke ($15)\n",
      "2017-05-19 11:16:20,488:DEBUG:Made 1 artichoke pizza(s)\n",
      "2017-05-19 11:16:20,490:DEBUG:Ate 1 artichoke pizza(s)\n",
      "2017-05-19 11:16:20,492:DEBUG:Pizza created: margherita ($12)\n",
      "2017-05-19 11:16:20,495:DEBUG:Made 2 margherita pizza(s)\n",
      "2017-05-19 11:16:20,497:DEBUG:Ate 1 margherita pizza(s)\n"
     ]
    }
   ],
   "source": [
    "import logging\n",
    "\n",
    "# default level is WARN\n",
    "# logging level\n",
    "# CRITICAL\t50\tlogging.critical()\tShow a serious error, the program may be unable to continue running\n",
    "# ERROR\t\t40\tlogging.error()\t\tShow a more serious problem\n",
    "# WARNING\t30\tlogging.warning()\tIndicate something unexpected happened, or could happen\n",
    "# INFO\t\t20\tlogging.info()\t\tConfirm that things are working as expected\n",
    "# DEBUG\t\t10\tlogging.debug()\t\tDiagnose problems, show detailed information\n",
    "\n",
    "# logging.basicConfig(level=logging.DEBUG)\n",
    "\n",
    "# log to a file, new log will be appended\n",
    "# logging.basicConfig(filename=\"test.log\", level=logging.DEBUG)\n",
    "\n",
    "logging.basicConfig(\n",
    "    level=logging.DEBUG,\n",
    "    format=\"%(asctime)s:%(levelname)s:%(message)s\"\n",
    ")\n",
    "\n",
    "class Pizza():\n",
    "    def __init__(self, name, price):\n",
    "        self.name = name\n",
    "        self.price = price\n",
    "        logging.debug(\"Pizza created: {} (${})\".format(self.name, self.price))\n",
    "\n",
    "    def make(self, quantity=1):\n",
    "        logging.debug(\"Made {} {} pizza(s)\".format(quantity, self.name))\n",
    "\n",
    "    def eat(self, quantity=1):\n",
    "        logging.debug(\"Ate {} {} pizza(s)\".format(quantity, self.name))\n",
    "\n",
    "pizza_01 = Pizza(\"artichoke\", 15)\n",
    "pizza_01.make()\n",
    "pizza_01.eat()\n",
    "\n",
    "pizza_02 = Pizza(\"margherita\", 12)\n",
    "pizza_02.make(2)\n",
    "pizza_02.eat()"
   ]
  },
  {
   "cell_type": "code",
   "execution_count": 3,
   "metadata": {},
   "outputs": [
    {
     "name": "stderr",
     "output_type": "stream",
     "text": [
      "2017-05-19 11:16:23,790:DEBUG:Module 1 debugger\n",
      "2017-05-19 11:16:23,791:DEBUG:Module 2 debugger\n"
     ]
    }
   ],
   "source": [
    "# different loggers in different modules\n",
    "\n",
    "logger1 = logging.getLogger(\"module_1\")\n",
    "logger2 = logging.getLogger(\"module_2\")\n",
    "\n",
    "logger1.debug(\"Module 1 debugger\")\n",
    "logger2.debug(\"Module 2 debugger\")"
   ]
  },
  {
   "cell_type": "code",
   "execution_count": null,
   "metadata": {
    "collapsed": true
   },
   "outputs": [],
   "source": []
  }
 ],
 "metadata": {
  "kernelspec": {
   "display_name": "Python 3",
   "language": "python",
   "name": "python3"
  },
  "language_info": {
   "codemirror_mode": {
    "name": "ipython",
    "version": 3
   },
   "file_extension": ".py",
   "mimetype": "text/x-python",
   "name": "python",
   "nbconvert_exporter": "python",
   "pygments_lexer": "ipython3",
   "version": "3.6.1"
  }
 },
 "nbformat": 4,
 "nbformat_minor": 2
}
