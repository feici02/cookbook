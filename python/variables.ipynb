{
 "cells": [
  {
   "cell_type": "code",
   "execution_count": 4,
   "metadata": {},
   "outputs": [
    {
     "name": "stdout",
     "output_type": "stream",
     "text": [
      "0\n",
      "0\n",
      "0\n"
     ]
    }
   ],
   "source": [
    "x = y = z = 0\n",
    "print(x)\n",
    "print(y)\n",
    "print(z)"
   ]
  },
  {
   "cell_type": "code",
   "execution_count": 5,
   "metadata": {},
   "outputs": [
    {
     "name": "stdout",
     "output_type": "stream",
     "text": [
      "1\n",
      "3.14\n",
      "hello\n"
     ]
    }
   ],
   "source": [
    "i, j, k = 1, 3.14, \"hello\"\n",
    "print(i)\n",
    "print(j)\n",
    "print(k)"
   ]
  },
  {
   "cell_type": "code",
   "execution_count": 20,
   "metadata": {},
   "outputs": [
    {
     "name": "stdout",
     "output_type": "stream",
     "text": [
      "Jason\n",
      "Jack\n"
     ]
    }
   ],
   "source": [
    "name = \"Jason\"\n",
    "\n",
    "def change_name():\n",
    "    name = \"Jay\"\n",
    "\n",
    "def change_name_g():\n",
    "    global name\n",
    "    name = \"Jack\"\n",
    "\n",
    "change_name()\n",
    "print(name)\n",
    "\n",
    "change_name_g()\n",
    "print(name)"
   ]
  },
  {
   "cell_type": "code",
   "execution_count": 29,
   "metadata": {},
   "outputs": [
    {
     "name": "stdout",
     "output_type": "stream",
     "text": [
      "7.1\n",
      "7\n",
      "7.0\n",
      "My lucky number is 7.\n"
     ]
    }
   ],
   "source": [
    "a = 7.1\n",
    "b = int(a)\n",
    "\n",
    "print(a)\n",
    "print(b)\n",
    "print(float(b))\n",
    "print('My lucky number is ' + str(b) + '.')"
   ]
  },
  {
   "cell_type": "code",
   "execution_count": 30,
   "metadata": {},
   "outputs": [
    {
     "name": "stdout",
     "output_type": "stream",
     "text": [
      "('Jason', 'Sally', 'Amanda')\n"
     ]
    }
   ],
   "source": [
    "name_l = [\"Jason\", \"Sally\", \"Amanda\"]\n",
    "name_t = tuple(name_l)\n",
    "print(name_t)"
   ]
  },
  {
   "cell_type": "code",
   "execution_count": 32,
   "metadata": {},
   "outputs": [
    {
     "name": "stdout",
     "output_type": "stream",
     "text": [
      "('J', 'a', 's', 'o', 'n')\n",
      "['J', 'a', 's', 'o', 'n']\n"
     ]
    }
   ],
   "source": [
    "name = \"Jason\"\n",
    "print(tuple(name))\n",
    "print(list(name))"
   ]
  },
  {
   "cell_type": "code",
   "execution_count": null,
   "metadata": {
    "collapsed": true
   },
   "outputs": [],
   "source": []
  }
 ],
 "metadata": {
  "kernelspec": {
   "display_name": "Python 3",
   "language": "python",
   "name": "python3"
  },
  "language_info": {
   "codemirror_mode": {
    "name": "ipython",
    "version": 3
   },
   "file_extension": ".py",
   "mimetype": "text/x-python",
   "name": "python",
   "nbconvert_exporter": "python",
   "pygments_lexer": "ipython3",
   "version": "3.6.0"
  }
 },
 "nbformat": 4,
 "nbformat_minor": 2
}
