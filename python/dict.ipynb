{
 "cells": [
  {
   "cell_type": "code",
   "execution_count": 16,
   "metadata": {},
   "outputs": [
    {
     "name": "stdout",
     "output_type": "stream",
     "text": [
      "{'gender': 'female', 'age': 3, 'online': True}\n",
      "3\n"
     ]
    }
   ],
   "source": [
    "amanda = {\n",
    "    'gender': 'female',\n",
    "    'age': 3,\n",
    "    'online': True\n",
    "}\n",
    "\n",
    "print(amanda)\n",
    "print(amanda['age'])"
   ]
  },
  {
   "cell_type": "code",
   "execution_count": 20,
   "metadata": {},
   "outputs": [
    {
     "name": "stdout",
     "output_type": "stream",
     "text": [
      "dict_keys(['gender', 'age', 'online'])\n",
      "<class 'dict_keys'>\n",
      "dict_values(['female', 3, True])\n",
      "<class 'dict_values'>\n",
      "dict_items([('gender', 'female'), ('age', 3), ('online', True)])\n",
      "<class 'dict_items'>\n"
     ]
    }
   ],
   "source": [
    "print(amanda.keys())\n",
    "print(type(amanda.keys()))\n",
    "\n",
    "print(amanda.values())\n",
    "print(type(amanda.values()))\n",
    "\n",
    "print(amanda.items())\n",
    "print(type(amanda.items()))"
   ]
  },
  {
   "cell_type": "code",
   "execution_count": 21,
   "metadata": {},
   "outputs": [
    {
     "name": "stdout",
     "output_type": "stream",
     "text": [
      "gender\n",
      "age\n",
      "online\n",
      "female\n",
      "3\n",
      "True\n",
      "gender = female\n",
      "age = 3\n",
      "online = True\n"
     ]
    }
   ],
   "source": [
    "for k in amanda.keys():\n",
    "    print(k)\n",
    "\n",
    "for v in amanda.values():\n",
    "    print(v)\n",
    "    \n",
    "for k, v in amanda.items():\n",
    "    print(\"{} = {}\".format(k, v))"
   ]
  },
  {
   "cell_type": "code",
   "execution_count": 22,
   "metadata": {},
   "outputs": [
    {
     "name": "stdout",
     "output_type": "stream",
     "text": [
      "{'gender': 'female', 'age': 5, 'online': True}\n"
     ]
    }
   ],
   "source": [
    "amanda['age'] = 5\n",
    "print(amanda)"
   ]
  },
  {
   "cell_type": "code",
   "execution_count": 23,
   "metadata": {},
   "outputs": [
    {
     "name": "stdout",
     "output_type": "stream",
     "text": [
      "{'gender': 'female', 'age': 5, 'online': False}\n"
     ]
    }
   ],
   "source": [
    "amanda.update({'online': False})\n",
    "print(amanda)"
   ]
  },
  {
   "cell_type": "code",
   "execution_count": 24,
   "metadata": {},
   "outputs": [
    {
     "name": "stdout",
     "output_type": "stream",
     "text": [
      "{'gender': 'female', 'age': 5}\n"
     ]
    }
   ],
   "source": [
    "del amanda['online']\n",
    "print(amanda)"
   ]
  },
  {
   "cell_type": "code",
   "execution_count": 25,
   "metadata": {},
   "outputs": [
    {
     "name": "stdout",
     "output_type": "stream",
     "text": [
      "{}\n"
     ]
    }
   ],
   "source": [
    "amanda.clear()\n",
    "print(amanda)"
   ]
  },
  {
   "cell_type": "code",
   "execution_count": 26,
   "metadata": {},
   "outputs": [
    {
     "ename": "NameError",
     "evalue": "name 'amanda' is not defined",
     "output_type": "error",
     "traceback": [
      "\u001b[0;31m---------------------------------------------------------------------------\u001b[0m",
      "\u001b[0;31mNameError\u001b[0m                                 Traceback (most recent call last)",
      "\u001b[0;32m<ipython-input-26-7f569d3bf231>\u001b[0m in \u001b[0;36m<module>\u001b[0;34m()\u001b[0m\n\u001b[1;32m      1\u001b[0m \u001b[0;32mdel\u001b[0m \u001b[0mamanda\u001b[0m\u001b[0;34m\u001b[0m\u001b[0m\n\u001b[0;32m----> 2\u001b[0;31m \u001b[0mprint\u001b[0m\u001b[0;34m(\u001b[0m\u001b[0mamanda\u001b[0m\u001b[0;34m)\u001b[0m\u001b[0;34m\u001b[0m\u001b[0m\n\u001b[0m",
      "\u001b[0;31mNameError\u001b[0m: name 'amanda' is not defined"
     ]
    }
   ],
   "source": [
    "del amanda\n",
    "print(amanda)"
   ]
  },
  {
   "cell_type": "code",
   "execution_count": null,
   "metadata": {
    "collapsed": true
   },
   "outputs": [],
   "source": []
  }
 ],
 "metadata": {
  "kernelspec": {
   "display_name": "Python 3",
   "language": "python",
   "name": "python3"
  },
  "language_info": {
   "codemirror_mode": {
    "name": "ipython",
    "version": 3
   },
   "file_extension": ".py",
   "mimetype": "text/x-python",
   "name": "python",
   "nbconvert_exporter": "python",
   "pygments_lexer": "ipython3",
   "version": "3.6.0"
  }
 },
 "nbformat": 4,
 "nbformat_minor": 2
}
