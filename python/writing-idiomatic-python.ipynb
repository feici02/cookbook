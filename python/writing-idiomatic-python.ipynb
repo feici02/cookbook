{
 "cells": [
  {
   "cell_type": "code",
   "execution_count": 1,
   "metadata": {
    "collapsed": true
   },
   "outputs": [],
   "source": [
    "# writing idiomatic python\n",
    "# https://jeffknupp.com/blog/2012/10/04/writing-idiomatic-python/"
   ]
  },
  {
   "cell_type": "code",
   "execution_count": 2,
   "metadata": {
    "collapsed": true
   },
   "outputs": [],
   "source": [
    "# 0. Naming\n",
    "# class: camel case\n",
    "# variable and function: joined by underscore\n",
    "# internal class variable and founction: prefixed by single underscore"
   ]
  },
  {
   "cell_type": "code",
   "execution_count": 3,
   "metadata": {},
   "outputs": [
    {
     "name": "stdout",
     "output_type": "stream",
     "text": [
      "2 1\n"
     ]
    }
   ],
   "source": [
    "# 1. Avoid using a temporary variable when swapping two variables\n",
    "foo = 1\n",
    "bar = 2\n",
    "(foo, bar) = (bar, foo)\n",
    "print(foo, bar)"
   ]
  },
  {
   "cell_type": "code",
   "execution_count": 4,
   "metadata": {},
   "outputs": [
    {
     "name": "stdout",
     "output_type": "stream",
     "text": [
      "China Beijing 100000\n"
     ]
    }
   ],
   "source": [
    "# 2. Use tuples to unpack data\n",
    "address = ['China', 'Beijing', '100000']\n",
    "(country, city, code) = address\n",
    "print(country, city, code)"
   ]
  },
  {
   "cell_type": "code",
   "execution_count": 8,
   "metadata": {},
   "outputs": [
    {
     "name": "stdout",
     "output_type": "stream",
     "text": [
      "Welcome to China\n"
     ]
    }
   ],
   "source": [
    "# 3. Use ''.join when creating a single string for list elements\n",
    "words = [\"Welcome\", \"to\", \"China\"]\n",
    "greeting = ' '.join(words)\n",
    "print(greeting)"
   ]
  },
  {
   "cell_type": "code",
   "execution_count": 12,
   "metadata": {},
   "outputs": [
    {
     "name": "stdout",
     "output_type": "stream",
     "text": [
      "10\n",
      "None\n",
      "0\n"
     ]
    }
   ],
   "source": [
    "# 4. Use the 'default' parameter of dict.get() to provide default values\n",
    "members = {\n",
    "    \"jason\": 10,\n",
    "    \"sally\": 20,\n",
    "    \"amanda\": 30,\n",
    "}\n",
    "\n",
    "print(members.get(\"jason\"))\n",
    "print(members.get(\"kipper\"))\n",
    "print(members.get(\"kipper\", 0))"
   ]
  },
  {
   "cell_type": "code",
   "execution_count": 14,
   "metadata": {},
   "outputs": [
    {
     "name": "stdout",
     "output_type": "stream",
     "text": [
      "Monday\n",
      "Tuesday\n",
      "Wednesday\n",
      "Thursday\n",
      "Friday\n",
      "Saturday\n",
      "Sunday\n"
     ]
    }
   ],
   "source": [
    "# 5. Use Context Managers to ensure resources are properly managed\n",
    "with open('days.txt', 'r') as file_handle:\n",
    "    for line in file_handle:\n",
    "        print(line, end=\"\")\n",
    "# No need to explicitly call 'close'\n",
    "# Handled by the File context manager"
   ]
  },
  {
   "cell_type": "code",
   "execution_count": 19,
   "metadata": {},
   "outputs": [
    {
     "name": "stdout",
     "output_type": "stream",
     "text": [
      "Hello, jason\n"
     ]
    }
   ],
   "source": [
    "# 6. Avoid placing conditional branch on the same line as the colon\n",
    "name = \"jason\"\n",
    "if name == \"jason\": print(\"Hello,\", name)"
   ]
  },
  {
   "cell_type": "code",
   "execution_count": 20,
   "metadata": {},
   "outputs": [
    {
     "name": "stdout",
     "output_type": "stream",
     "text": [
      "Hello, jason\n"
     ]
    }
   ],
   "source": [
    "if name == \"jason\":\n",
    "    print(\"Hello,\", name)"
   ]
  },
  {
   "cell_type": "code",
   "execution_count": 21,
   "metadata": {},
   "outputs": [
    {
     "name": "stdout",
     "output_type": "stream",
     "text": [
      "Hello, jason\n",
      "Nice to meet you.\n"
     ]
    }
   ],
   "source": [
    "# 7. Avoid having multiple statements on a single line\n",
    "if name == \"jason\":\n",
    "    print(\"Hello,\", name); print(\"Nice to meet you.\")"
   ]
  },
  {
   "cell_type": "code",
   "execution_count": 22,
   "metadata": {},
   "outputs": [
    {
     "name": "stdout",
     "output_type": "stream",
     "text": [
      "Hello, jason\n",
      "Nice to meet you.\n"
     ]
    }
   ],
   "source": [
    "if name == \"jason\":\n",
    "    print(\"Hello,\", name);\n",
    "    print(\"Nice to meet you.\")"
   ]
  },
  {
   "cell_type": "code",
   "execution_count": 23,
   "metadata": {},
   "outputs": [
    {
     "name": "stdout",
     "output_type": "stream",
     "text": [
      "True\n"
     ]
    }
   ],
   "source": [
    "# 8. Avoid repeating variable name in compound if Statement\n",
    "name = 'Tom'\n",
    "if name == 'Tom' or name == 'Dick' or name == 'Harry':\n",
    "    is_generic_name = True\n",
    "print(is_generic_name)"
   ]
  },
  {
   "cell_type": "code",
   "execution_count": 24,
   "metadata": {},
   "outputs": [
    {
     "name": "stdout",
     "output_type": "stream",
     "text": [
      "True\n"
     ]
    }
   ],
   "source": [
    "name = 'Tom'\n",
    "if name in ('Tom', 'Dick', 'Harry'):\n",
    "    is_generic_name = True\n",
    "print(is_generic_name)"
   ]
  },
  {
   "cell_type": "code",
   "execution_count": 28,
   "metadata": {},
   "outputs": [
    {
     "name": "stdout",
     "output_type": "stream",
     "text": [
      "[7, 9, 11, 13]\n"
     ]
    }
   ],
   "source": [
    "# 9. Use list comprehensions to create lists that are subsets of existing data\n",
    "\n",
    "def is_even(num):\n",
    "    if num % 2 == 0:\n",
    "        return True\n",
    "    else:\n",
    "        return False\n",
    "\n",
    "even_numbers = []\n",
    "for num in range(1, 10):\n",
    "    if is_even(num):\n",
    "        even_numbers.append(num+5)\n",
    "print(even_numbers)"
   ]
  },
  {
   "cell_type": "code",
   "execution_count": 29,
   "metadata": {},
   "outputs": [
    {
     "name": "stdout",
     "output_type": "stream",
     "text": [
      "[7, 9, 11, 13]\n"
     ]
    }
   ],
   "source": [
    "even_numbers = [ num + 5 for num in range(1, 10) if is_even(num)]\n",
    "print(even_numbers)"
   ]
  },
  {
   "cell_type": "code",
   "execution_count": 30,
   "metadata": {},
   "outputs": [
    {
     "name": "stdout",
     "output_type": "stream",
     "text": [
      "Larry\n",
      "Moe\n",
      "Curly\n"
     ]
    }
   ],
   "source": [
    "# 10. Use the in keyword to iterate over an Iterable\n",
    "my_list = ['Larry', 'Moe', 'Curly']\n",
    "index = 0\n",
    "while index < len(my_list):\n",
    "    print (my_list[index])\n",
    "    index+=1"
   ]
  },
  {
   "cell_type": "code",
   "execution_count": 31,
   "metadata": {},
   "outputs": [
    {
     "name": "stdout",
     "output_type": "stream",
     "text": [
      "Larry\n",
      "Moe\n",
      "Curly\n"
     ]
    }
   ],
   "source": [
    "for name in my_list:\n",
    "    print(name)"
   ]
  },
  {
   "cell_type": "code",
   "execution_count": 34,
   "metadata": {},
   "outputs": [
    {
     "name": "stdout",
     "output_type": "stream",
     "text": [
      "0 Larry\n",
      "1 Moe\n",
      "2 Curly\n"
     ]
    }
   ],
   "source": [
    "# 11. Use the enumerate function in loops instead of creating an 'index' variable\n",
    "index = 0\n",
    "for element in my_list:\n",
    "    print (index, element)\n",
    "    index+=1\n"
   ]
  },
  {
   "cell_type": "code",
   "execution_count": 33,
   "metadata": {},
   "outputs": [
    {
     "name": "stdout",
     "output_type": "stream",
     "text": [
      "0 Larry\n",
      "1 Moe\n",
      "2 Curly\n"
     ]
    }
   ],
   "source": [
    "for index, element in enumerate(my_list):\n",
    "    print(index, element)"
   ]
  },
  {
   "cell_type": "code",
   "execution_count": null,
   "metadata": {
    "collapsed": true
   },
   "outputs": [],
   "source": []
  }
 ],
 "metadata": {
  "kernelspec": {
   "display_name": "Python 3",
   "language": "python",
   "name": "python3"
  },
  "language_info": {
   "codemirror_mode": {
    "name": "ipython",
    "version": 3
   },
   "file_extension": ".py",
   "mimetype": "text/x-python",
   "name": "python",
   "nbconvert_exporter": "python",
   "pygments_lexer": "ipython3",
   "version": "3.6.1"
  }
 },
 "nbformat": 4,
 "nbformat_minor": 2
}
