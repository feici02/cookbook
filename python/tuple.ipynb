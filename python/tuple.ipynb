{
 "cells": [
  {
   "cell_type": "code",
   "execution_count": 5,
   "metadata": {},
   "outputs": [
    {
     "name": "stdout",
     "output_type": "stream",
     "text": [
      "('Jason', 'Sally', 'Amanda')\n",
      "Jason\n",
      "Amanda\n",
      "('Jason', 'Sally')\n",
      "('Sally', 'Amanda')\n"
     ]
    }
   ],
   "source": [
    "names = (\"Jason\", \"Sally\", \"Amanda\")\n",
    "print(names)\n",
    "print(names[0])\n",
    "print(names[-1])\n",
    "print(names[:2])\n",
    "print(names[1:])"
   ]
  },
  {
   "cell_type": "code",
   "execution_count": 9,
   "metadata": {},
   "outputs": [
    {
     "name": "stdout",
     "output_type": "stream",
     "text": [
      "('Jason', 'Sally', 'Amanda', 'Chip', 'Biff', 'Kipper')\n",
      "('Chip', 'Biff', 'Kipper', 'Chip', 'Biff', 'Kipper')\n",
      "3\n"
     ]
    }
   ],
   "source": [
    "names2 = (\"Chip\", \"Biff\", \"Kipper\")\n",
    "print(names + names2)\n",
    "print(names2 * 2)\n",
    "print(len(names))"
   ]
  },
  {
   "cell_type": "code",
   "execution_count": 13,
   "metadata": {},
   "outputs": [
    {
     "name": "stdout",
     "output_type": "stream",
     "text": [
      "(0, 1, 2, 3, 4, 5, 6, 7, 8, 9)\n",
      "9\n",
      "0\n"
     ]
    }
   ],
   "source": [
    "numbers = tuple(range(10))\n",
    "print(numbers)\n",
    "print(max(numbers))\n",
    "print(min(numbers))"
   ]
  },
  {
   "cell_type": "code",
   "execution_count": 14,
   "metadata": {},
   "outputs": [
    {
     "name": "stdout",
     "output_type": "stream",
     "text": [
      "[0, 1, 2, 3, 4, 5, 6, 7, 8, 9]\n"
     ]
    }
   ],
   "source": [
    "numbers_l = list(numbers)\n",
    "print(numbers_l)"
   ]
  },
  {
   "cell_type": "code",
   "execution_count": null,
   "metadata": {
    "collapsed": true
   },
   "outputs": [],
   "source": []
  }
 ],
 "metadata": {
  "kernelspec": {
   "display_name": "Python 3",
   "language": "python",
   "name": "python3"
  },
  "language_info": {
   "codemirror_mode": {
    "name": "ipython",
    "version": 3
   },
   "file_extension": ".py",
   "mimetype": "text/x-python",
   "name": "python",
   "nbconvert_exporter": "python",
   "pygments_lexer": "ipython3",
   "version": "3.6.0"
  }
 },
 "nbformat": 4,
 "nbformat_minor": 2
}
