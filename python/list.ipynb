{
 "cells": [
  {
   "cell_type": "code",
   "execution_count": 20,
   "metadata": {},
   "outputs": [
    {
     "name": "stdout",
     "output_type": "stream",
     "text": [
      "['Jason', 'Sally']\n"
     ]
    }
   ],
   "source": [
    "name_l = [\"Jason\", \"Sally\", \"Amanda\"]\n",
    "del name_l[-1]\n",
    "print(name_l)"
   ]
  },
  {
   "cell_type": "code",
   "execution_count": 21,
   "metadata": {},
   "outputs": [
    {
     "name": "stdout",
     "output_type": "stream",
     "text": [
      "['Jason', 'Sally', 'Biff']\n"
     ]
    }
   ],
   "source": [
    "name_l.append(\"Biff\")\n",
    "print(name_l)"
   ]
  },
  {
   "cell_type": "code",
   "execution_count": 22,
   "metadata": {},
   "outputs": [
    {
     "name": "stdout",
     "output_type": "stream",
     "text": [
      "['Chip', 'Jason', 'Sally', 'Biff']\n"
     ]
    }
   ],
   "source": [
    "name_l.insert(0, \"Chip\")\n",
    "print(name_l)"
   ]
  },
  {
   "cell_type": "code",
   "execution_count": 23,
   "metadata": {},
   "outputs": [
    {
     "name": "stdout",
     "output_type": "stream",
     "text": [
      "['Chip', 'Jason', 'Sally', 'Biff', 'Kipper', 'Floppy']\n"
     ]
    }
   ],
   "source": [
    "more_names = [\"Kipper\", \"Floppy\"]\n",
    "name_l.extend(more_names)\n",
    "print(name_l)"
   ]
  },
  {
   "cell_type": "code",
   "execution_count": 24,
   "metadata": {},
   "outputs": [
    {
     "name": "stdout",
     "output_type": "stream",
     "text": [
      "['Chip', 'Jason', 'Sally', 'Biff', 'Kipper']\n"
     ]
    }
   ],
   "source": [
    "name_l.remove(\"Floppy\")\n",
    "print(name_l)"
   ]
  },
  {
   "cell_type": "code",
   "execution_count": 25,
   "metadata": {},
   "outputs": [
    {
     "name": "stdout",
     "output_type": "stream",
     "text": [
      "['Chip', 'Sally', 'Biff', 'Kipper']\n"
     ]
    }
   ],
   "source": [
    "name_l.pop(1)\n",
    "print(name_l)"
   ]
  },
  {
   "cell_type": "code",
   "execution_count": 26,
   "metadata": {},
   "outputs": [
    {
     "name": "stdout",
     "output_type": "stream",
     "text": [
      "['Chip', 'Sally', 'Biff', 'Kipper']\n",
      "3\n"
     ]
    }
   ],
   "source": [
    "print(name_l)\n",
    "print(name_l.index('Kipper'))"
   ]
  },
  {
   "cell_type": "code",
   "execution_count": 27,
   "metadata": {},
   "outputs": [
    {
     "name": "stdout",
     "output_type": "stream",
     "text": [
      "['Chip', 'Sally', 'Biff', 'Kipper']\n"
     ]
    }
   ],
   "source": [
    "name_l2 = name_l.copy()\n",
    "print(name_l2)"
   ]
  },
  {
   "cell_type": "code",
   "execution_count": 28,
   "metadata": {},
   "outputs": [
    {
     "name": "stdout",
     "output_type": "stream",
     "text": [
      "['Chip', 'Sally', 'Biff', 'Kipper']\n",
      "['Biff', 'Chip', 'Kipper', 'Sally']\n",
      "['Sally', 'Kipper', 'Chip', 'Biff']\n"
     ]
    }
   ],
   "source": [
    "print(name_l)\n",
    "\n",
    "name_l.sort()\n",
    "print(name_l)\n",
    "\n",
    "name_l.reverse()\n",
    "print(name_l)"
   ]
  },
  {
   "cell_type": "code",
   "execution_count": 29,
   "metadata": {},
   "outputs": [
    {
     "name": "stdout",
     "output_type": "stream",
     "text": [
      "3\n"
     ]
    }
   ],
   "source": [
    "name_l.extend([\"Kipper\", \"Kipper\"])\n",
    "print(name_l.count(\"Kipper\"))"
   ]
  },
  {
   "cell_type": "code",
   "execution_count": 30,
   "metadata": {},
   "outputs": [
    {
     "name": "stdout",
     "output_type": "stream",
     "text": [
      "['Sally', 'Kipper', 'Chip', 'Biff', 'Kipper', 'Kipper']\n",
      "[]\n"
     ]
    }
   ],
   "source": [
    "print(name_l)\n",
    "name_l.clear()\n",
    "print(name_l)"
   ]
  },
  {
   "cell_type": "code",
   "execution_count": 31,
   "metadata": {},
   "outputs": [
    {
     "name": "stdout",
     "output_type": "stream",
     "text": [
      "['J', 'a', 's', 'o', 'n']\n"
     ]
    }
   ],
   "source": [
    "name = \"Jason\"\n",
    "name_letter = []\n",
    "\n",
    "for letter in name:\n",
    "    name_letter.append(letter)\n",
    "\n",
    "print(name_letter)"
   ]
  },
  {
   "cell_type": "code",
   "execution_count": 32,
   "metadata": {},
   "outputs": [
    {
     "name": "stdout",
     "output_type": "stream",
     "text": [
      "['J', 'a', 's', 'o', 'n']\n"
     ]
    }
   ],
   "source": [
    "name_letter_l = [letter for letter in name]\n",
    "print(name_letter_l)"
   ]
  },
  {
   "cell_type": "code",
   "execution_count": 33,
   "metadata": {},
   "outputs": [
    {
     "name": "stdout",
     "output_type": "stream",
     "text": [
      "['Sally', 'Amanda']\n"
     ]
    }
   ],
   "source": [
    "name_l = [\"Jason\", \"Sally\", \"Amanda\"]\n",
    "print([name for name in name_l if name != \"Jason\"])"
   ]
  },
  {
   "cell_type": "code",
   "execution_count": 34,
   "metadata": {},
   "outputs": [
    {
     "name": "stdout",
     "output_type": "stream",
     "text": [
      "[0, 4, 16, 36, 64]\n"
     ]
    }
   ],
   "source": [
    "print([x**2 for x in range(10) if x % 2 == 0])"
   ]
  },
  {
   "cell_type": "code",
   "execution_count": 35,
   "metadata": {},
   "outputs": [
    {
     "name": "stdout",
     "output_type": "stream",
     "text": [
      "[40, 80, 120, 80, 160, 240, 120, 240, 360]\n"
     ]
    }
   ],
   "source": [
    "my_list = []\n",
    "\n",
    "for x in [20, 40, 60]:\n",
    "    for y in [2, 4, 6]:\n",
    "        my_list.append(x * y)\n",
    "\n",
    "print(my_list)"
   ]
  },
  {
   "cell_type": "code",
   "execution_count": 38,
   "metadata": {},
   "outputs": [
    {
     "name": "stdout",
     "output_type": "stream",
     "text": [
      "[40, 80, 120, 80, 160, 240, 120, 240, 360]\n"
     ]
    }
   ],
   "source": [
    "my_list = [x * y for x in [20, 40, 60] for y in [2, 4, 6]]\n",
    "print(my_list)"
   ]
  },
  {
   "cell_type": "code",
   "execution_count": 1,
   "metadata": {},
   "outputs": [
    {
     "name": "stdout",
     "output_type": "stream",
     "text": [
      "[0, 15, 30, 45, 60, 75, 90]\n"
     ]
    }
   ],
   "source": [
    "number_list = []\n",
    "\n",
    "for num in range(100):\n",
    "    if num % 3 == 0:\n",
    "        if num % 5 == 0:\n",
    "            number_list.append(num)\n",
    "\n",
    "print(number_list)"
   ]
  },
  {
   "cell_type": "code",
   "execution_count": 2,
   "metadata": {},
   "outputs": [
    {
     "name": "stdout",
     "output_type": "stream",
     "text": [
      "[0, 15, 30, 45, 60, 75, 90]\n"
     ]
    }
   ],
   "source": [
    "print([num for num in range(100) if num % 3 == 0 if num % 5 == 0])"
   ]
  },
  {
   "cell_type": "code",
   "execution_count": null,
   "metadata": {
    "collapsed": true
   },
   "outputs": [],
   "source": []
  }
 ],
 "metadata": {
  "kernelspec": {
   "display_name": "Python 3",
   "language": "python",
   "name": "python3"
  },
  "language_info": {
   "codemirror_mode": {
    "name": "ipython",
    "version": 3
   },
   "file_extension": ".py",
   "mimetype": "text/x-python",
   "name": "python",
   "nbconvert_exporter": "python",
   "pygments_lexer": "ipython3",
   "version": "3.6.0"
  }
 },
 "nbformat": 4,
 "nbformat_minor": 2
}
