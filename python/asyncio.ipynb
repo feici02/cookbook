{
 "cells": [
  {
   "cell_type": "code",
   "execution_count": 1,
   "metadata": {},
   "outputs": [
    {
     "name": "stdout",
     "output_type": "stream",
     "text": [
      "Task A: Compute factorial(2)\n",
      "SLEEP 2017-05-19 16:02:53.608765\n",
      "\n",
      "Task B: Compute factorial(2)\n",
      "SLEEP 2017-05-19 16:02:53.609072\n",
      "\n",
      "Task A: Compute factorial(3)\n",
      "SLEEP 2017-05-19 16:02:54.609376\n",
      "\n",
      "Task B: Compute factorial(3)\n",
      "SLEEP 2017-05-19 16:02:54.609643\n",
      "\n",
      "Task A: factorial(3) is 6\n",
      "\n",
      "Task B: Compute factorial(4)\n",
      "SLEEP 2017-05-19 16:02:55.613126\n",
      "\n",
      "Task B: factorial(4) is 24\n",
      "\n",
      "Total time: 3.0104689598083496\n"
     ]
    }
   ],
   "source": [
    "import asyncio  \n",
    "import time  \n",
    "from datetime import datetime\n",
    "\n",
    "\n",
    "async def custom_sleep():  \n",
    "    print('SLEEP {}\\n'.format(datetime.now()))\n",
    "    await asyncio.sleep(1)\n",
    "\n",
    "async def factorial(name, number):  \n",
    "    f = 1\n",
    "    for i in range(2, number+1):\n",
    "        print('Task {}: Compute factorial({})'.format(name, i))\n",
    "        await custom_sleep()\n",
    "        f *= i\n",
    "    print('Task {}: factorial({}) is {}\\n'.format(name, number, f))\n",
    "\n",
    "\n",
    "start = time.time()  \n",
    "loop = asyncio.get_event_loop()\n",
    "\n",
    "tasks = [  \n",
    "    asyncio.ensure_future(factorial(\"A\", 3)),\n",
    "    asyncio.ensure_future(factorial(\"B\", 4)),\n",
    "]\n",
    "loop.run_until_complete(asyncio.wait(tasks))  \n",
    "loop.close()\n",
    "\n",
    "end = time.time()  \n",
    "print(\"Total time: {}\".format(end - start))  \n"
   ]
  },
  {
   "cell_type": "code",
   "execution_count": null,
   "metadata": {
    "collapsed": true
   },
   "outputs": [],
   "source": []
  }
 ],
 "metadata": {
  "kernelspec": {
   "display_name": "Python 3",
   "language": "python",
   "name": "python3"
  },
  "language_info": {
   "codemirror_mode": {
    "name": "ipython",
    "version": 3
   },
   "file_extension": ".py",
   "mimetype": "text/x-python",
   "name": "python",
   "nbconvert_exporter": "python",
   "pygments_lexer": "ipython3",
   "version": "3.6.1"
  }
 },
 "nbformat": 4,
 "nbformat_minor": 2
}
