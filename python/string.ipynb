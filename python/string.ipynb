{
 "cells": [
  {
   "cell_type": "code",
   "execution_count": 9,
   "metadata": {},
   "outputs": [
    {
     "name": "stdout",
     "output_type": "stream",
     "text": [
      "hihihi\n"
     ]
    }
   ],
   "source": [
    "str = \"hi\"\n",
    "print(str*3)"
   ]
  },
  {
   "cell_type": "code",
   "execution_count": 10,
   "metadata": {},
   "outputs": [
    {
     "name": "stdout",
     "output_type": "stream",
     "text": [
      "Hello,world!\n"
     ]
    }
   ],
   "source": [
    "str = \"Hello,\"\n",
    "str += \"world!\"\n",
    "print(str)"
   ]
  },
  {
   "cell_type": "code",
   "execution_count": 7,
   "metadata": {},
   "outputs": [
    {
     "name": "stdout",
     "output_type": "stream",
     "text": [
      "----------\n",
      "\n",
      "Hello,\n",
      "world!\n",
      "----------\n",
      "Hello,\n",
      "world!\n",
      "I am Jason.\n"
     ]
    }
   ],
   "source": [
    "print('-' * 10)\n",
    "str = \"\"\"\n",
    "Hello,\n",
    "world!\"\"\"\n",
    "print(str)\n",
    "\n",
    "print('-' * 10)\n",
    "str = \"\"\"\\\n",
    "Hello,\n",
    "world!\n",
    "I am Jason.\\\n",
    "\"\"\"\n",
    "print(str)"
   ]
  },
  {
   "cell_type": "code",
   "execution_count": 12,
   "metadata": {},
   "outputs": [
    {
     "name": "stdout",
     "output_type": "stream",
     "text": [
      "How're you?\\nI'm fine.\n"
     ]
    }
   ],
   "source": [
    "# raw strings\n",
    "str = r\"How're you?\\nI'm fine.\"\n",
    "print(str)"
   ]
  },
  {
   "cell_type": "code",
   "execution_count": 27,
   "metadata": {},
   "outputs": [
    {
     "name": "stdout",
     "output_type": "stream",
     "text": [
      "HELLO, WORLD!\n",
      "hello, world!\n",
      "False\n",
      "False\n",
      "True\n",
      "H e l l o ,   W o r l d !\n",
      "!dlroW ,olleH\n"
     ]
    }
   ],
   "source": [
    "str = \"Hello, World!\"\n",
    "print(str.upper())\n",
    "print(str.lower())\n",
    "print(str.isupper())\n",
    "print(str.islower())\n",
    "print(str.istitle())\n",
    "print(\" \".join(str))\n",
    "print(\"\".join(reversed(str)))"
   ]
  },
  {
   "cell_type": "code",
   "execution_count": 21,
   "metadata": {},
   "outputs": [
    {
     "name": "stdout",
     "output_type": "stream",
     "text": [
      "5\n"
     ]
    }
   ],
   "source": [
    "str = \"abcde\"\n",
    "print(len(str))"
   ]
  },
  {
   "cell_type": "code",
   "execution_count": 35,
   "metadata": {},
   "outputs": [
    {
     "name": "stdout",
     "output_type": "stream",
     "text": [
      "Jason,Sally,Amanda\n",
      "['Jason', 'Sally', 'Amanda']\n",
      "jason,Sally,Amanda\n"
     ]
    }
   ],
   "source": [
    "member_list = [\"Jason\", \"Sally\", \"Amanda\"]\n",
    "member_str = \",\".join(member)\n",
    "print(member_str)\n",
    "print(member_str.split(\",\"))\n",
    "print(member_str.replace(\"Jason\", \"jason\"))"
   ]
  },
  {
   "cell_type": "code",
   "execution_count": 51,
   "metadata": {},
   "outputs": [
    {
     "name": "stdout",
     "output_type": "stream",
     "text": [
      "H !\n",
      "Hello\n",
      "world!\n",
      "world\n",
      "world\n",
      "Hello, world!\n",
      "Hlo ol!\n",
      "!dlrow ,olleH\n",
      "2\n",
      "7\n"
     ]
    }
   ],
   "source": [
    "str = \"Hello, world!\"\n",
    "print(str[0], str[-1])\n",
    "print(str[:5])\n",
    "print(str[7:])\n",
    "print(str[7:12])\n",
    "print(str[-6:-1])\n",
    "print(str[::1])\n",
    "print(str[::2])\n",
    "print(str[::-1])\n",
    "print(str.count('o'))\n",
    "print(str.find('w'))"
   ]
  },
  {
   "cell_type": "code",
   "execution_count": 3,
   "metadata": {},
   "outputs": [
    {
     "name": "stdout",
     "output_type": "stream",
     "text": [
      "Sammy says, \"Hello!\"\n",
      "Sammy says, \"Hello!\"\n"
     ]
    }
   ],
   "source": [
    "print('Sammy says, \"Hello!\"')\n",
    "print(\"Sammy says, \\\"Hello!\\\"\")"
   ]
  },
  {
   "cell_type": "code",
   "execution_count": 9,
   "metadata": {},
   "outputs": [
    {
     "name": "stdout",
     "output_type": "stream",
     "text": [
      "1.\tJason\n",
      "2.\tSally\n",
      "3.\tAmanda\n"
     ]
    }
   ],
   "source": [
    "print(\"1.\\tJason\\n2.\\tSally\\n3.\\tAmanda\")"
   ]
  },
  {
   "cell_type": "code",
   "execution_count": 13,
   "metadata": {},
   "outputs": [
    {
     "name": "stdout",
     "output_type": "stream",
     "text": [
      "Jason loves Sally and Amanda.\n",
      "Jason loves Amanda and Sally.\n",
      "Jason loves Sally and Amanda.\n"
     ]
    }
   ],
   "source": [
    "str = \"Jason loves {} and {}.\"\n",
    "print(str.format(\"Sally\", \"Amanda\"))\n",
    "\n",
    "str = \"Jason loves {1} and {0}.\"\n",
    "print(str.format(\"Sally\", \"Amanda\"))\n",
    "\n",
    "str = \"Jason loves {wife} and {daughter}.\"\n",
    "print(str.format(wife=\"Sally\", daughter=\"Amanda\"))"
   ]
  },
  {
   "cell_type": "code",
   "execution_count": 40,
   "metadata": {},
   "outputs": [
    {
     "name": "stdout",
     "output_type": "stream",
     "text": [
      "3.141592653589793\n",
      "The value of pi is 3.\n",
      "The value of pi is 3.14.\n"
     ]
    }
   ],
   "source": [
    "import math\n",
    "print(math.pi)\n",
    "print(\"The value of pi is {:.0f}.\".format(math.pi))\n",
    "print(\"The value of pi is {:.2f}.\".format(math.pi))"
   ]
  },
  {
   "cell_type": "code",
   "execution_count": 25,
   "metadata": {},
   "outputs": [
    {
     "name": "stdout",
     "output_type": "stream",
     "text": [
      "-----\n",
      "1    \n",
      "  1  \n",
      "    1\n",
      "1****\n",
      "**1**\n",
      "****1\n"
     ]
    }
   ],
   "source": [
    "print('-'*5)\n",
    "print('{:<5}'.format(1))\n",
    "print('{:^5}'.format(1))\n",
    "print('{:>5}'.format(1))\n",
    "print('{:*<5}'.format(1))\n",
    "print('{:*^5}'.format(1))\n",
    "print('{:*>5}'.format(1))"
   ]
  },
  {
   "cell_type": "code",
   "execution_count": 29,
   "metadata": {},
   "outputs": [
    {
     "name": "stdout",
     "output_type": "stream",
     "text": [
      "     3      9     27\n",
      "     4     16     64\n",
      "     5     25    125\n",
      "     6     36    216\n",
      "     7     49    343\n",
      "     8     64    512\n",
      "     9     81    729\n",
      "    10    100   1000\n",
      "    11    121   1331\n",
      "    12    144   1728\n"
     ]
    }
   ],
   "source": [
    "for i in range(3,13):\n",
    "    print(\"{:6d} {:6d} {:6d}\".format(i, i*i, i*i*i))"
   ]
  },
  {
   "cell_type": "code",
   "execution_count": 38,
   "metadata": {},
   "outputs": [
    {
     "name": "stdout",
     "output_type": "stream",
     "text": [
      "---------- ----------\n",
      "Jason           Sally\n"
     ]
    }
   ],
   "source": [
    "print('-'*10, '-'*10)\n",
    "print(\"{0:<10} {1:>10}\".format(\"Jason\", \"Sally\"))"
   ]
  },
  {
   "cell_type": "code",
   "execution_count": null,
   "metadata": {
    "collapsed": true
   },
   "outputs": [],
   "source": []
  }
 ],
 "metadata": {
  "kernelspec": {
   "display_name": "Python 3",
   "language": "python",
   "name": "python3"
  },
  "language_info": {
   "codemirror_mode": {
    "name": "ipython",
    "version": 3
   },
   "file_extension": ".py",
   "mimetype": "text/x-python",
   "name": "python",
   "nbconvert_exporter": "python",
   "pygments_lexer": "ipython3",
   "version": "3.6.0"
  }
 },
 "nbformat": 4,
 "nbformat_minor": 2
}
